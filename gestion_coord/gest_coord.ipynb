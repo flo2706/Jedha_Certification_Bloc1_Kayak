{
 "cells": [
  {
   "cell_type": "code",
   "execution_count": 1,
   "id": "4c47b255",
   "metadata": {},
   "outputs": [],
   "source": [
    "import json\n",
    "import pandas as pd"
   ]
  },
  {
   "cell_type": "code",
   "execution_count": 2,
   "id": "4bd73c92",
   "metadata": {},
   "outputs": [],
   "source": [
    "df_coord = pd.read_json(\"coordinates.json\")"
   ]
  },
  {
   "cell_type": "code",
   "execution_count": 3,
   "id": "a44b29a3",
   "metadata": {},
   "outputs": [
    {
     "data": {
      "text/html": [
       "<div>\n",
       "<style scoped>\n",
       "    .dataframe tbody tr th:only-of-type {\n",
       "        vertical-align: middle;\n",
       "    }\n",
       "\n",
       "    .dataframe tbody tr th {\n",
       "        vertical-align: top;\n",
       "    }\n",
       "\n",
       "    .dataframe thead th {\n",
       "        text-align: right;\n",
       "    }\n",
       "</style>\n",
       "<table border=\"1\" class=\"dataframe\">\n",
       "  <thead>\n",
       "    <tr style=\"text-align: right;\">\n",
       "      <th></th>\n",
       "      <th>Eguisheim, France</th>\n",
       "      <th>Nimes, France</th>\n",
       "      <th>Gorges du Verdon, France</th>\n",
       "      <th>Toulouse, France</th>\n",
       "      <th>Bormes-les-Mimosas, France</th>\n",
       "      <th>Rouen, France</th>\n",
       "      <th>Paris, France</th>\n",
       "      <th>Montauban, France</th>\n",
       "      <th>Le Mont-Saint-Michel, France</th>\n",
       "      <th>Besançon, France</th>\n",
       "      <th>...</th>\n",
       "      <th>Bayonne, France</th>\n",
       "      <th>Château du Haut-Koenigsbourg, France</th>\n",
       "      <th>Grenoble, France</th>\n",
       "      <th>Le Havre, France</th>\n",
       "      <th>Avignon, France</th>\n",
       "      <th>La Rochelle, France</th>\n",
       "      <th>Lyon, France</th>\n",
       "      <th>Ariège, France</th>\n",
       "      <th>Colmar, France</th>\n",
       "      <th>Uzes, France</th>\n",
       "    </tr>\n",
       "  </thead>\n",
       "  <tbody>\n",
       "    <tr>\n",
       "      <th>latitude</th>\n",
       "      <td>48.044797</td>\n",
       "      <td>43.837425</td>\n",
       "      <td>43.749656</td>\n",
       "      <td>43.604462</td>\n",
       "      <td>43.150697</td>\n",
       "      <td>49.440459</td>\n",
       "      <td>48.858890</td>\n",
       "      <td>44.017584</td>\n",
       "      <td>48.635523</td>\n",
       "      <td>47.238022</td>\n",
       "      <td>...</td>\n",
       "      <td>43.494514</td>\n",
       "      <td>48.249411</td>\n",
       "      <td>45.187560</td>\n",
       "      <td>49.493898</td>\n",
       "      <td>43.949249</td>\n",
       "      <td>46.159732</td>\n",
       "      <td>45.757814</td>\n",
       "      <td>42.945537</td>\n",
       "      <td>48.077752</td>\n",
       "      <td>44.012128</td>\n",
       "    </tr>\n",
       "    <tr>\n",
       "      <th>longitude</th>\n",
       "      <td>7.307962</td>\n",
       "      <td>4.360069</td>\n",
       "      <td>6.328562</td>\n",
       "      <td>1.444247</td>\n",
       "      <td>6.341928</td>\n",
       "      <td>1.093966</td>\n",
       "      <td>2.320041</td>\n",
       "      <td>1.354999</td>\n",
       "      <td>-1.510257</td>\n",
       "      <td>6.024362</td>\n",
       "      <td>...</td>\n",
       "      <td>-1.473666</td>\n",
       "      <td>7.344320</td>\n",
       "      <td>5.735782</td>\n",
       "      <td>0.107973</td>\n",
       "      <td>4.805901</td>\n",
       "      <td>-1.151595</td>\n",
       "      <td>4.832011</td>\n",
       "      <td>1.406554</td>\n",
       "      <td>7.357964</td>\n",
       "      <td>4.419672</td>\n",
       "    </tr>\n",
       "  </tbody>\n",
       "</table>\n",
       "<p>2 rows × 35 columns</p>\n",
       "</div>"
      ],
      "text/plain": [
       "           Eguisheim, France  Nimes, France  Gorges du Verdon, France  \\\n",
       "latitude           48.044797      43.837425                 43.749656   \n",
       "longitude           7.307962       4.360069                  6.328562   \n",
       "\n",
       "           Toulouse, France  Bormes-les-Mimosas, France  Rouen, France  \\\n",
       "latitude          43.604462                   43.150697      49.440459   \n",
       "longitude          1.444247                    6.341928       1.093966   \n",
       "\n",
       "           Paris, France  Montauban, France  Le Mont-Saint-Michel, France  \\\n",
       "latitude       48.858890          44.017584                     48.635523   \n",
       "longitude       2.320041           1.354999                     -1.510257   \n",
       "\n",
       "           Besançon, France  ...  Bayonne, France  \\\n",
       "latitude          47.238022  ...        43.494514   \n",
       "longitude          6.024362  ...        -1.473666   \n",
       "\n",
       "           Château du Haut-Koenigsbourg, France  Grenoble, France  \\\n",
       "latitude                              48.249411         45.187560   \n",
       "longitude                              7.344320          5.735782   \n",
       "\n",
       "           Le Havre, France  Avignon, France  La Rochelle, France  \\\n",
       "latitude          49.493898        43.949249            46.159732   \n",
       "longitude          0.107973         4.805901            -1.151595   \n",
       "\n",
       "           Lyon, France  Ariège, France  Colmar, France  Uzes, France  \n",
       "latitude      45.757814       42.945537       48.077752     44.012128  \n",
       "longitude      4.832011        1.406554        7.357964      4.419672  \n",
       "\n",
       "[2 rows x 35 columns]"
      ]
     },
     "execution_count": 3,
     "metadata": {},
     "output_type": "execute_result"
    }
   ],
   "source": [
    "df_coord.head()"
   ]
  },
  {
   "cell_type": "code",
   "execution_count": 4,
   "id": "65862169",
   "metadata": {},
   "outputs": [
    {
     "name": "stdout",
     "output_type": "stream",
     "text": [
      "                   city_name  latitude  longitude\n",
      "                   Eguisheim 48.044797   7.307962\n",
      "                       Nimes 43.837425   4.360069\n",
      "            Gorges du Verdon 43.749656   6.328562\n",
      "                    Toulouse 43.604462   1.444247\n",
      "          Bormes-les-Mimosas 43.150697   6.341928\n",
      "                       Rouen 49.440459   1.093966\n",
      "                       Paris 48.858890   2.320041\n",
      "                   Montauban 44.017584   1.354999\n",
      "        Le Mont-Saint-Michel 48.635523  -1.510257\n",
      "                    Besançon 47.238022   6.024362\n",
      "                      Cassis 43.214036   5.539632\n",
      "               Aigues-Mortes 43.566152   4.191540\n",
      "                      Amiens 49.894171   2.295695\n",
      "                       Dijon 47.321581   5.041470\n",
      "                    Biarritz 43.471144  -1.552727\n",
      "      Sainte-Marie de la Mer 49.330805  -1.713822\n",
      "                  Saint-Malo 48.649518  -2.026041\n",
      "                   Collioure 42.525050   3.083155\n",
      "                   Marseille 43.296174   5.369953\n",
      "                       Lille 50.636565   3.063528\n",
      "                      Annecy 45.899235   6.128885\n",
      "                  Strasbourg 48.584614   7.750713\n",
      "             Aix-en-Provence 43.529842   5.447474\n",
      "                      Bayeux 49.276462  -0.702474\n",
      "                 Carcassonne 43.213036   2.349107\n",
      "                     Bayonne 43.494514  -1.473666\n",
      "Château du Haut-Koenigsbourg 48.249411   7.344320\n",
      "                    Grenoble 45.187560   5.735782\n",
      "                    Le Havre 49.493898   0.107973\n",
      "                     Avignon 43.949249   4.805901\n",
      "                 La Rochelle 46.159732  -1.151595\n",
      "                        Lyon 45.757814   4.832011\n",
      "                      Ariège 42.945537   1.406554\n",
      "                      Colmar 48.077752   7.357964\n",
      "                        Uzes 44.012128   4.419672\n"
     ]
    }
   ],
   "source": [
    "with open(\"coordinates.json\", \"r\", encoding=\"utf-8\") as f:\n",
    "    raw_data = json.load(f)\n",
    "\n",
    "df_coord = pd.DataFrame.from_dict(raw_data, orient='index').reset_index()\n",
    "df_coord.columns = ['city_name', 'latitude', 'longitude']\n",
    "\n",
    "df_coord['city_name'] = df_coord['city_name'].str.replace(\", France\", \"\", regex=False)\n",
    "\n",
    "df_coord[\"latitude\"] = df_coord[\"latitude\"].astype(float)\n",
    "df_coord[\"longitude\"] = df_coord[\"longitude\"].astype(float)\n",
    "\n",
    "print(df_coord.to_string(index=False))"
   ]
  },
  {
   "cell_type": "code",
   "execution_count": 5,
   "id": "c2fb2871",
   "metadata": {},
   "outputs": [
    {
     "name": "stdout",
     "output_type": "stream",
     "text": [
      "                   city_name  latitude  longitude\n",
      "                   Eguisheim 48.044797   7.307962\n",
      "                       Nimes 43.837425   4.360069\n",
      "            Gorges du Verdon 43.749656   6.328562\n",
      "                    Toulouse 43.604462   1.444247\n",
      "          Bormes-les-Mimosas 43.150697   6.341928\n",
      "                       Rouen 49.440459   1.093966\n",
      "                       Paris 48.858890   2.320041\n",
      "                   Montauban 44.017584   1.354999\n",
      "        Le Mont-Saint-Michel 48.635523  -1.510257\n",
      "                    Besançon 47.238022   6.024362\n",
      "                      Cassis 43.214036   5.539632\n",
      "               Aigues-Mortes 43.566152   4.191540\n",
      "                      Amiens 49.894171   2.295695\n",
      "                       Dijon 47.321581   5.041470\n",
      "                    Biarritz 43.471144  -1.552727\n",
      "      Sainte-Marie de la Mer 49.330805  -1.713822\n",
      "                  Saint-Malo 48.649518  -2.026041\n",
      "                   Collioure 42.525050   3.083155\n",
      "                   Marseille 43.296174   5.369953\n",
      "                       Lille 50.636565   3.063528\n",
      "                      Annecy 45.899235   6.128885\n",
      "                  Strasbourg 48.584614   7.750713\n",
      "             Aix-en-Provence 43.529842   5.447474\n",
      "                      Bayeux 49.276462  -0.702474\n",
      "                 Carcassonne 43.213036   2.349107\n",
      "                     Bayonne 43.494514  -1.473666\n",
      "Château du Haut-Koenigsbourg 48.249411   7.344320\n",
      "                    Grenoble 45.187560   5.735782\n",
      "                    Le Havre 49.493898   0.107973\n",
      "                     Avignon 43.949249   4.805901\n",
      "                 La Rochelle 46.159732  -1.151595\n",
      "                        Lyon 45.757814   4.832011\n",
      "                      Ariège 42.945537   1.406554\n",
      "                      Colmar 48.077752   7.357964\n",
      "                        Uzes 44.012128   4.419672\n"
     ]
    }
   ],
   "source": [
    "print(df_coord.to_string(index=False))"
   ]
  },
  {
   "cell_type": "code",
   "execution_count": 6,
   "id": "8f64ae97",
   "metadata": {},
   "outputs": [
    {
     "name": "stdout",
     "output_type": "stream",
     "text": [
      "            city_name   latitude  longitude  city_id\n",
      "0           Eguisheim  48.044797   7.307962       18\n",
      "1               Nimes  43.837425   4.360069       28\n",
      "2    Gorges du Verdon  43.749656   6.328562       19\n",
      "3            Toulouse  43.604462   1.444247       34\n",
      "4  Bormes-les-Mimosas  43.150697   6.341928       11\n"
     ]
    }
   ],
   "source": [
    "df_weather = pd.read_csv(\"../create_final_csv/weather_clean.csv\")\n",
    "\n",
    "# Create a mapping city -> city_id from df_weather\n",
    "city_to_id = df_weather.drop_duplicates(subset=[\"city_name\"])[[\"city_name\", \"city_id\"]].set_index(\"city_name\")[\"city_id\"].to_dict()\n",
    "\n",
    "# Map city_id onto df_coord\n",
    "df_coord[\"city_id\"] = df_coord[\"city_name\"].map(city_to_id)\n",
    "\n",
    "print(df_coord.head())\n"
   ]
  },
  {
   "cell_type": "code",
   "execution_count": 7,
   "id": "328c4f98",
   "metadata": {},
   "outputs": [
    {
     "name": "stdout",
     "output_type": "stream",
     "text": [
      "                   city_name  latitude  longitude  city_id\n",
      "                   Eguisheim 48.044797   7.307962       18\n",
      "                       Nimes 43.837425   4.360069       28\n",
      "            Gorges du Verdon 43.749656   6.328562       19\n",
      "                    Toulouse 43.604462   1.444247       34\n",
      "          Bormes-les-Mimosas 43.150697   6.341928       11\n",
      "                       Rouen 49.440459   1.093966       30\n",
      "                       Paris 48.858890   2.320041       29\n",
      "                   Montauban 44.017584   1.354999       27\n",
      "        Le Mont-Saint-Michel 48.635523  -1.510257       26\n",
      "                    Besançon 47.238022   6.024362        9\n",
      "                      Cassis 43.214036   5.539632       13\n",
      "               Aigues-Mortes 43.566152   4.191540        1\n",
      "                      Amiens 49.894171   2.295695        3\n",
      "                       Dijon 47.321581   5.041470       17\n",
      "                    Biarritz 43.471144  -1.552727       10\n",
      "      Sainte-Marie de la Mer 49.330805  -1.713822       31\n",
      "                  Saint-Malo 48.649518  -2.026041       32\n",
      "                   Collioure 42.525050   3.083155       15\n",
      "                   Marseille 43.296174   5.369953       25\n",
      "                       Lille 50.636565   3.063528       23\n",
      "                      Annecy 45.899235   6.128885        4\n",
      "                  Strasbourg 48.584614   7.750713       33\n",
      "             Aix-en-Provence 43.529842   5.447474        2\n",
      "                      Bayeux 49.276462  -0.702474        7\n",
      "                 Carcassonne 43.213036   2.349107       12\n",
      "                     Bayonne 43.494514  -1.473666        8\n",
      "Château du Haut-Koenigsbourg 48.249411   7.344320       14\n",
      "                    Grenoble 45.187560   5.735782       20\n",
      "                    Le Havre 49.493898   0.107973       22\n",
      "                     Avignon 43.949249   4.805901        6\n",
      "                 La Rochelle 46.159732  -1.151595       21\n",
      "                        Lyon 45.757814   4.832011       24\n",
      "                      Ariège 42.945537   1.406554        5\n",
      "                      Colmar 48.077752   7.357964       16\n",
      "                        Uzes 44.012128   4.419672       35\n"
     ]
    }
   ],
   "source": [
    "print(df_coord.to_string(index=False))"
   ]
  },
  {
   "cell_type": "code",
   "execution_count": 8,
   "id": "f52eba37",
   "metadata": {},
   "outputs": [
    {
     "name": "stdout",
     "output_type": "stream",
     "text": [
      "Cities missing in df_weather: set()\n"
     ]
    }
   ],
   "source": [
    "cities_weather = set(df_weather[\"city_name\"].unique())\n",
    "cities_coord = set(df_coord[\"city_name\"].unique())\n",
    "\n",
    "missing_in_weather = cities_coord - cities_weather\n",
    "\n",
    "print(\"Cities missing in df_weather:\", missing_in_weather)\n"
   ]
  },
  {
   "cell_type": "code",
   "execution_count": 9,
   "id": "8fcb746f",
   "metadata": {},
   "outputs": [
    {
     "name": "stdout",
     "output_type": "stream",
     "text": [
      "                   city_name  latitude  longitude  city_id\n",
      "                   Eguisheim 48.044797   7.307962       18\n",
      "                       Nimes 43.837425   4.360069       28\n",
      "            Gorges du Verdon 43.749656   6.328562       19\n",
      "                    Toulouse 43.604462   1.444247       34\n",
      "          Bormes-les-Mimosas 43.150697   6.341928       11\n",
      "                       Rouen 49.440459   1.093966       30\n",
      "                       Paris 48.858890   2.320041       29\n",
      "                   Montauban 44.017584   1.354999       27\n",
      "        Le Mont-Saint-Michel 48.635523  -1.510257       26\n",
      "                    Besançon 47.238022   6.024362        9\n",
      "                      Cassis 43.214036   5.539632       13\n",
      "               Aigues-Mortes 43.566152   4.191540        1\n",
      "                      Amiens 49.894171   2.295695        3\n",
      "                       Dijon 47.321581   5.041470       17\n",
      "                    Biarritz 43.471144  -1.552727       10\n",
      "      Sainte-Marie de la Mer 49.330805  -1.713822       31\n",
      "                  Saint-Malo 48.649518  -2.026041       32\n",
      "                   Collioure 42.525050   3.083155       15\n",
      "                   Marseille 43.296174   5.369953       25\n",
      "                       Lille 50.636565   3.063528       23\n",
      "                      Annecy 45.899235   6.128885        4\n",
      "                  Strasbourg 48.584614   7.750713       33\n",
      "             Aix-en-Provence 43.529842   5.447474        2\n",
      "                      Bayeux 49.276462  -0.702474        7\n",
      "                 Carcassonne 43.213036   2.349107       12\n",
      "                     Bayonne 43.494514  -1.473666        8\n",
      "Château du Haut-Koenigsbourg 48.249411   7.344320       14\n",
      "                    Grenoble 45.187560   5.735782       20\n",
      "                    Le Havre 49.493898   0.107973       22\n",
      "                     Avignon 43.949249   4.805901        6\n",
      "                 La Rochelle 46.159732  -1.151595       21\n",
      "                        Lyon 45.757814   4.832011       24\n",
      "                      Ariège 42.945537   1.406554        5\n",
      "                      Colmar 48.077752   7.357964       16\n",
      "                        Uzes 44.012128   4.419672       35\n"
     ]
    }
   ],
   "source": [
    "print(df_coord.to_string(index=False))"
   ]
  },
  {
   "cell_type": "code",
   "execution_count": 10,
   "id": "912810bd",
   "metadata": {},
   "outputs": [
    {
     "name": "stdout",
     "output_type": "stream",
     "text": [
      "Tous les city_id sont corrects !\n"
     ]
    }
   ],
   "source": [
    "city_id_mapping = dict(zip(df_weather[\"city_name\"], df_weather[\"city_id\"]))\n",
    "\n",
    "df_coord[\"city_id_expected\"] = df_coord[\"city_name\"].map(city_id_mapping)\n",
    "\n",
    "mismatch = df_coord[df_coord[\"city_id\"] != df_coord[\"city_id_expected\"]]\n",
    "\n",
    "if mismatch.empty:\n",
    "    print(\"Tous les city_id sont corrects !\")\n",
    "else:\n",
    "    print(\"Des erreurs dans les city_id :\")\n",
    "    print(mismatch)\n"
   ]
  },
  {
   "cell_type": "code",
   "execution_count": 11,
   "id": "a4905528",
   "metadata": {},
   "outputs": [
    {
     "name": "stdout",
     "output_type": "stream",
     "text": [
      "                   city_name  latitude  longitude  city_id  city_id_expected\n",
      "                   Eguisheim 48.044797   7.307962       18                18\n",
      "                       Nimes 43.837425   4.360069       28                28\n",
      "            Gorges du Verdon 43.749656   6.328562       19                19\n",
      "                    Toulouse 43.604462   1.444247       34                34\n",
      "          Bormes-les-Mimosas 43.150697   6.341928       11                11\n",
      "                       Rouen 49.440459   1.093966       30                30\n",
      "                       Paris 48.858890   2.320041       29                29\n",
      "                   Montauban 44.017584   1.354999       27                27\n",
      "        Le Mont-Saint-Michel 48.635523  -1.510257       26                26\n",
      "                    Besançon 47.238022   6.024362        9                 9\n",
      "                      Cassis 43.214036   5.539632       13                13\n",
      "               Aigues-Mortes 43.566152   4.191540        1                 1\n",
      "                      Amiens 49.894171   2.295695        3                 3\n",
      "                       Dijon 47.321581   5.041470       17                17\n",
      "                    Biarritz 43.471144  -1.552727       10                10\n",
      "      Sainte-Marie de la Mer 49.330805  -1.713822       31                31\n",
      "                  Saint-Malo 48.649518  -2.026041       32                32\n",
      "                   Collioure 42.525050   3.083155       15                15\n",
      "                   Marseille 43.296174   5.369953       25                25\n",
      "                       Lille 50.636565   3.063528       23                23\n",
      "                      Annecy 45.899235   6.128885        4                 4\n",
      "                  Strasbourg 48.584614   7.750713       33                33\n",
      "             Aix-en-Provence 43.529842   5.447474        2                 2\n",
      "                      Bayeux 49.276462  -0.702474        7                 7\n",
      "                 Carcassonne 43.213036   2.349107       12                12\n",
      "                     Bayonne 43.494514  -1.473666        8                 8\n",
      "Château du Haut-Koenigsbourg 48.249411   7.344320       14                14\n",
      "                    Grenoble 45.187560   5.735782       20                20\n",
      "                    Le Havre 49.493898   0.107973       22                22\n",
      "                     Avignon 43.949249   4.805901        6                 6\n",
      "                 La Rochelle 46.159732  -1.151595       21                21\n",
      "                        Lyon 45.757814   4.832011       24                24\n",
      "                      Ariège 42.945537   1.406554        5                 5\n",
      "                      Colmar 48.077752   7.357964       16                16\n",
      "                        Uzes 44.012128   4.419672       35                35\n"
     ]
    }
   ],
   "source": [
    "print(df_coord.to_string(index=False))"
   ]
  },
  {
   "cell_type": "code",
   "execution_count": 12,
   "id": "6499dd34",
   "metadata": {},
   "outputs": [
    {
     "name": "stdout",
     "output_type": "stream",
     "text": [
      "Fichier coordinates_clean.csv enregistré localement.\n"
     ]
    }
   ],
   "source": [
    "df_coord.to_csv(\"coordinates_clean.csv\", index=False)\n",
    "print(\"Fichier coordinates_clean.csv enregistré localement.\")"
   ]
  }
 ],
 "metadata": {
  "kernelspec": {
   "display_name": "base",
   "language": "python",
   "name": "python3"
  },
  "language_info": {
   "codemirror_mode": {
    "name": "ipython",
    "version": 3
   },
   "file_extension": ".py",
   "mimetype": "text/x-python",
   "name": "python",
   "nbconvert_exporter": "python",
   "pygments_lexer": "ipython3",
   "version": "3.12.4"
  }
 },
 "nbformat": 4,
 "nbformat_minor": 5
}
